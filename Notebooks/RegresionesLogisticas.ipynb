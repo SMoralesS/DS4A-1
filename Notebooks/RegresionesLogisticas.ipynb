{
  "nbformat": 4,
  "nbformat_minor": 0,
  "metadata": {
    "colab": {
      "name": "RegresionesLogisticas.ipynb",
      "provenance": []
    },
    "kernelspec": {
      "name": "python3",
      "display_name": "Python 3"
    }
  },
  "cells": [
    {
      "cell_type": "markdown",
      "metadata": {
        "id": "VK9RlD6UpN8z",
        "colab_type": "text"
      },
      "source": [
        "## Regresiones logisticas"
      ]
    },
    {
      "cell_type": "code",
      "metadata": {
        "id": "d9FOx8xqAdnM",
        "colab_type": "code",
        "colab": {
          "base_uri": "https://localhost:8080/",
          "height": 34
        },
        "outputId": "7eb96b26-5622-4cad-cf87-8d9da4a9df8d"
      },
      "source": [
        "import pandas as pd\n",
        "import matplotlib.pyplot as plt\n",
        "import seaborn as sns\n",
        "import statsmodels.formula.api as smf\n",
        "import statsmodels.api as sm\n",
        "from sklearn.model_selection import train_test_split\n",
        "\n",
        "from google.colab import drive\n",
        "drive.mount('/content/drive')"
      ],
      "execution_count": 4,
      "outputs": [
        {
          "output_type": "stream",
          "text": [
            "Drive already mounted at /content/drive; to attempt to forcibly remount, call drive.mount(\"/content/drive\", force_remount=True).\n"
          ],
          "name": "stdout"
        }
      ]
    },
    {
      "cell_type": "code",
      "metadata": {
        "id": "zk0gx1TW_5aD",
        "colab_type": "code",
        "colab": {
          "base_uri": "https://localhost:8080/",
          "height": 72
        },
        "outputId": "5b11aaf1-baac-4717-8d5a-0eb1163b8250"
      },
      "source": [
        "df = pd.read_csv(\"/content/drive/My Drive/DS4A/CleanDB_FULL_DsOrigin_RandomSample_NumCat.csv\") "
      ],
      "execution_count": 5,
      "outputs": [
        {
          "output_type": "stream",
          "text": [
            "/usr/local/lib/python3.6/dist-packages/IPython/core/interactiveshell.py:2718: DtypeWarning: Columns (10,51) have mixed types.Specify dtype option on import or set low_memory=False.\n",
            "  interactivity=interactivity, compiler=compiler, result=result)\n"
          ],
          "name": "stderr"
        }
      ]
    },
    {
      "cell_type": "code",
      "metadata": {
        "id": "JrXOD1dcnO7Y",
        "colab_type": "code",
        "colab": {}
      },
      "source": [
        "df[\"NACIDO_VIVO_INV\"] = df[\"NACIDO_VIVO_INV\"].astype('category')\n",
        "df[\"SEG_SOCIAL_CAT\"] = df[\"SEG_SOCIAL_CAT\"].astype('category')\n",
        "df[\"SEXO_CAT\"] = df[\"SEXO_CAT\"].astype('category')\n",
        "df['SITIO_EVENTO_CAT'] = df[\"SITIO_EVENTO_CAT\"].astype('category')\n",
        "df['TIEMPO_GESTACION_CAT'] = df[\"TIEMPO_GESTACION_CAT\"].astype('category')\n",
        "df['TIPO_PARTO_CAT'] = df[\"TIPO_PARTO_CAT\"].astype('category')\n",
        "df['AREA'] = df[\"AREA\"].astype('category')\n"
      ],
      "execution_count": 6,
      "outputs": []
    },
    {
      "cell_type": "code",
      "metadata": {
        "id": "tVod-Y3ZpcSo",
        "colab_type": "code",
        "colab": {}
      },
      "source": [
        "columns = ['NUMERO_EMBARAZOS','PESO','SEXO_CAT','SEG_SOCIAL_CAT','SITIO_EVENTO_CAT','TIEMPO_GESTACION_CAT','TIPO_PARTO_CAT','AREA']\n",
        "df_log = df.loc[:,columns]\n",
        "df_log['SEXO_CAT'] = df.SEXO_CAT.cat.codes\n",
        "df_log['SEG_SOCIAL_CAT'] = df.SEG_SOCIAL_CAT.cat.codes\n",
        "df_log['SITIO_EVENTO_CAT'] = df.SITIO_EVENTO_CAT.cat.codes\n",
        "df_log['TIEMPO_GESTACION_CAT'] = df.TIEMPO_GESTACION_CAT.cat.codes\n",
        "df_log['TIPO_PARTO_CAT'] = df.TIPO_PARTO_CAT.cat.codes\n",
        "df_log['AREA'] = df.AREA.cat.codes\n",
        "df_log['NACIDO_VIVO_INV'] = df.NACIDO_VIVO_INV.cat.codes\n",
        "df_log['Intercept'] = 1"
      ],
      "execution_count": 7,
      "outputs": []
    },
    {
      "cell_type": "code",
      "metadata": {
        "id": "2b1xtw4DdD7t",
        "colab_type": "code",
        "colab": {
          "base_uri": "https://localhost:8080/",
          "height": 432
        },
        "outputId": "98d5b9b1-335e-4dbe-bda7-5b2bcbdeffa6"
      },
      "source": [
        "logit = sm.Logit(df_log['NACIDO_VIVO_INV'], df_log[columns].astype(float))\n",
        "logit_res = logit.fit()\n",
        "logit_res.summary()"
      ],
      "execution_count": 8,
      "outputs": [
        {
          "output_type": "stream",
          "text": [
            "Optimization terminated successfully.\n",
            "         Current function value: 0.111122\n",
            "         Iterations 9\n"
          ],
          "name": "stdout"
        },
        {
          "output_type": "execute_result",
          "data": {
            "text/html": [
              "<table class=\"simpletable\">\n",
              "<caption>Logit Regression Results</caption>\n",
              "<tr>\n",
              "  <th>Dep. Variable:</th>    <td>NACIDO_VIVO_INV</td> <th>  No. Observations:  </th>   <td>1579068</td>  \n",
              "</tr>\n",
              "<tr>\n",
              "  <th>Model:</th>                 <td>Logit</td>      <th>  Df Residuals:      </th>   <td>1579060</td>  \n",
              "</tr>\n",
              "<tr>\n",
              "  <th>Method:</th>                 <td>MLE</td>       <th>  Df Model:          </th>   <td>     7</td>   \n",
              "</tr>\n",
              "<tr>\n",
              "  <th>Date:</th>            <td>Sat, 11 Jul 2020</td> <th>  Pseudo R-squ.:     </th>   <td>0.5569</td>   \n",
              "</tr>\n",
              "<tr>\n",
              "  <th>Time:</th>                <td>22:39:13</td>     <th>  Log-Likelihood:    </th> <td>-1.7547e+05</td>\n",
              "</tr>\n",
              "<tr>\n",
              "  <th>converged:</th>             <td>True</td>       <th>  LL-Null:           </th> <td>-3.9604e+05</td>\n",
              "</tr>\n",
              "<tr>\n",
              "  <th>Covariance Type:</th>     <td>nonrobust</td>    <th>  LLR p-value:       </th>   <td> 0.000</td>   \n",
              "</tr>\n",
              "</table>\n",
              "<table class=\"simpletable\">\n",
              "<tr>\n",
              "            <td></td>              <th>coef</th>     <th>std err</th>      <th>z</th>      <th>P>|z|</th>  <th>[0.025</th>    <th>0.975]</th>  \n",
              "</tr>\n",
              "<tr>\n",
              "  <th>NUMERO_EMBARAZOS</th>     <td>    0.0518</td> <td>    0.000</td> <td>  184.826</td> <td> 0.000</td> <td>    0.051</td> <td>    0.052</td>\n",
              "</tr>\n",
              "<tr>\n",
              "  <th>PESO</th>                 <td>   -0.5821</td> <td>    0.002</td> <td> -264.638</td> <td> 0.000</td> <td>   -0.586</td> <td>   -0.578</td>\n",
              "</tr>\n",
              "<tr>\n",
              "  <th>SEXO_CAT</th>             <td>    3.1403</td> <td>    0.011</td> <td>  293.095</td> <td> 0.000</td> <td>    3.119</td> <td>    3.161</td>\n",
              "</tr>\n",
              "<tr>\n",
              "  <th>SEG_SOCIAL_CAT</th>       <td>   -0.1695</td> <td>    0.004</td> <td>  -37.969</td> <td> 0.000</td> <td>   -0.178</td> <td>   -0.161</td>\n",
              "</tr>\n",
              "<tr>\n",
              "  <th>SITIO_EVENTO_CAT</th>     <td>    1.7645</td> <td>    0.016</td> <td>  110.581</td> <td> 0.000</td> <td>    1.733</td> <td>    1.796</td>\n",
              "</tr>\n",
              "<tr>\n",
              "  <th>TIEMPO_GESTACION_CAT</th> <td>   -1.0609</td> <td>    0.004</td> <td> -292.069</td> <td> 0.000</td> <td>   -1.068</td> <td>   -1.054</td>\n",
              "</tr>\n",
              "<tr>\n",
              "  <th>TIPO_PARTO_CAT</th>       <td>    0.0240</td> <td>    0.007</td> <td>    3.400</td> <td> 0.001</td> <td>    0.010</td> <td>    0.038</td>\n",
              "</tr>\n",
              "<tr>\n",
              "  <th>AREA</th>                 <td>   -0.8039</td> <td>    0.029</td> <td>  -27.847</td> <td> 0.000</td> <td>   -0.861</td> <td>   -0.747</td>\n",
              "</tr>\n",
              "</table>"
            ],
            "text/plain": [
              "<class 'statsmodels.iolib.summary.Summary'>\n",
              "\"\"\"\n",
              "                           Logit Regression Results                           \n",
              "==============================================================================\n",
              "Dep. Variable:        NACIDO_VIVO_INV   No. Observations:              1579068\n",
              "Model:                          Logit   Df Residuals:                  1579060\n",
              "Method:                           MLE   Df Model:                            7\n",
              "Date:                Sat, 11 Jul 2020   Pseudo R-squ.:                  0.5569\n",
              "Time:                        22:39:13   Log-Likelihood:            -1.7547e+05\n",
              "converged:                       True   LL-Null:                   -3.9604e+05\n",
              "Covariance Type:            nonrobust   LLR p-value:                     0.000\n",
              "========================================================================================\n",
              "                           coef    std err          z      P>|z|      [0.025      0.975]\n",
              "----------------------------------------------------------------------------------------\n",
              "NUMERO_EMBARAZOS         0.0518      0.000    184.826      0.000       0.051       0.052\n",
              "PESO                    -0.5821      0.002   -264.638      0.000      -0.586      -0.578\n",
              "SEXO_CAT                 3.1403      0.011    293.095      0.000       3.119       3.161\n",
              "SEG_SOCIAL_CAT          -0.1695      0.004    -37.969      0.000      -0.178      -0.161\n",
              "SITIO_EVENTO_CAT         1.7645      0.016    110.581      0.000       1.733       1.796\n",
              "TIEMPO_GESTACION_CAT    -1.0609      0.004   -292.069      0.000      -1.068      -1.054\n",
              "TIPO_PARTO_CAT           0.0240      0.007      3.400      0.001       0.010       0.038\n",
              "AREA                    -0.8039      0.029    -27.847      0.000      -0.861      -0.747\n",
              "========================================================================================\n",
              "\"\"\""
            ]
          },
          "metadata": {
            "tags": []
          },
          "execution_count": 8
        }
      ]
    },
    {
      "cell_type": "code",
      "metadata": {
        "id": "hKyfag089jrz",
        "colab_type": "code",
        "colab": {
          "base_uri": "https://localhost:8080/",
          "height": 369
        },
        "outputId": "ec42f067-a390-419d-bca2-2296d9e336bf"
      },
      "source": [
        "cm = logit_res.pred_table(threshold=0.5)\n",
        "plt.figure(figsize=(5,5))\n",
        "sns.heatmap(cm, annot=True,annot_kws={\"size\": 20})\n",
        "# labels, title and ticks\n",
        "plt.xlabel('Predicted values',fontsize=18)\n",
        "plt.ylabel('Real values',fontsize=18)\n",
        "plt.title('Confusion matrix',fontsize=24)\n",
        "plt.tight_layout()"
      ],
      "execution_count": 9,
      "outputs": [
        {
          "output_type": "display_data",
          "data": {
            "image/png": "[encoded data removed]",
            "text/plain": [
              "<Figure size 360x360 with 2 Axes>"
            ]
          },
          "metadata": {
            "tags": [],
            "needs_background": "light"
          }
        }
      ]
    },
    {
      "cell_type": "code",
      "metadata": {
        "colab_type": "code",
        "id": "VFDUXZMl22zq",
        "colab": {
          "base_uri": "https://localhost:8080/",
          "height": 304
        },
        "outputId": "9d46c2fc-dc7d-48a1-d317-aebaaed9c0f1"
      },
      "source": [
        "logit = sm.Logit(df_log['NACIDO_VIVO_INV'], df_log[['AREA','SITIO_EVENTO_CAT']].astype(float))\n",
        "logit_res = logit.fit()\n",
        "logit_res.summary()"
      ],
      "execution_count": 10,
      "outputs": [
        {
          "output_type": "stream",
          "text": [
            "Optimization terminated successfully.\n",
            "         Current function value: 0.685539\n",
            "         Iterations 6\n"
          ],
          "name": "stdout"
        },
        {
          "output_type": "execute_result",
          "data": {
            "text/html": [
              "<table class=\"simpletable\">\n",
              "<caption>Logit Regression Results</caption>\n",
              "<tr>\n",
              "  <th>Dep. Variable:</th>    <td>NACIDO_VIVO_INV</td> <th>  No. Observations:  </th>   <td>1579068</td>  \n",
              "</tr>\n",
              "<tr>\n",
              "  <th>Model:</th>                 <td>Logit</td>      <th>  Df Residuals:      </th>   <td>1579066</td>  \n",
              "</tr>\n",
              "<tr>\n",
              "  <th>Method:</th>                 <td>MLE</td>       <th>  Df Model:          </th>   <td>     1</td>   \n",
              "</tr>\n",
              "<tr>\n",
              "  <th>Date:</th>            <td>Sat, 11 Jul 2020</td> <th>  Pseudo R-squ.:     </th>   <td>-1.733</td>   \n",
              "</tr>\n",
              "<tr>\n",
              "  <th>Time:</th>                <td>22:39:24</td>     <th>  Log-Likelihood:    </th> <td>-1.0825e+06</td>\n",
              "</tr>\n",
              "<tr>\n",
              "  <th>converged:</th>             <td>True</td>       <th>  LL-Null:           </th> <td>-3.9604e+05</td>\n",
              "</tr>\n",
              "<tr>\n",
              "  <th>Covariance Type:</th>     <td>nonrobust</td>    <th>  LLR p-value:       </th>   <td> 1.000</td>   \n",
              "</tr>\n",
              "</table>\n",
              "<table class=\"simpletable\">\n",
              "<tr>\n",
              "          <td></td>            <th>coef</th>     <th>std err</th>      <th>z</th>      <th>P>|z|</th>  <th>[0.025</th>    <th>0.975]</th>  \n",
              "</tr>\n",
              "<tr>\n",
              "  <th>AREA</th>             <td>   -1.6125</td> <td>    0.015</td> <td> -108.462</td> <td> 0.000</td> <td>   -1.642</td> <td>   -1.583</td>\n",
              "</tr>\n",
              "<tr>\n",
              "  <th>SITIO_EVENTO_CAT</th> <td>    0.5613</td> <td>    0.008</td> <td>   73.906</td> <td> 0.000</td> <td>    0.546</td> <td>    0.576</td>\n",
              "</tr>\n",
              "</table>"
            ],
            "text/plain": [
              "<class 'statsmodels.iolib.summary.Summary'>\n",
              "\"\"\"\n",
              "                           Logit Regression Results                           \n",
              "==============================================================================\n",
              "Dep. Variable:        NACIDO_VIVO_INV   No. Observations:              1579068\n",
              "Model:                          Logit   Df Residuals:                  1579066\n",
              "Method:                           MLE   Df Model:                            1\n",
              "Date:                Sat, 11 Jul 2020   Pseudo R-squ.:                  -1.733\n",
              "Time:                        22:39:24   Log-Likelihood:            -1.0825e+06\n",
              "converged:                       True   LL-Null:                   -3.9604e+05\n",
              "Covariance Type:            nonrobust   LLR p-value:                     1.000\n",
              "====================================================================================\n",
              "                       coef    std err          z      P>|z|      [0.025      0.975]\n",
              "------------------------------------------------------------------------------------\n",
              "AREA                -1.6125      0.015   -108.462      0.000      -1.642      -1.583\n",
              "SITIO_EVENTO_CAT     0.5613      0.008     73.906      0.000       0.546       0.576\n",
              "====================================================================================\n",
              "\"\"\""
            ]
          },
          "metadata": {
            "tags": []
          },
          "execution_count": 10
        }
      ]
    },
    {
      "cell_type": "code",
      "metadata": {
        "id": "vXj-ph6W_wG6",
        "colab_type": "code",
        "colab": {
          "base_uri": "https://localhost:8080/",
          "height": 369
        },
        "outputId": "70d446e8-f475-4e40-ec99-214baf169b3c"
      },
      "source": [
        "cm = logit_res.pred_table(threshold=0.5)\n",
        "plt.figure(figsize=(5,5))\n",
        "sns.heatmap(cm, annot=True,annot_kws={\"size\": 20})\n",
        "# labels, title and ticks\n",
        "plt.xlabel('Predicted values',fontsize=18)\n",
        "plt.ylabel('Real values',fontsize=18)\n",
        "plt.title('Confusion matrix',fontsize=24)\n",
        "plt.tight_layout()"
      ],
      "execution_count": 11,
      "outputs": [
        {
          "output_type": "display_data",
          "data": {
            "image/png": "[encoded data removed]",
            "text/plain": [
              "<Figure size 360x360 with 2 Axes>"
            ]
          },
          "metadata": {
            "tags": [],
            "needs_background": "light"
          }
        }
      ]
    },
    {
      "cell_type": "code",
      "metadata": {
        "colab_type": "code",
        "id": "_YeWgH9l24Pi",
        "colab": {
          "base_uri": "https://localhost:8080/",
          "height": 326
        },
        "outputId": "ba71b36c-4354-42f4-ac54-843ac4799c66"
      },
      "source": [
        "logit = sm.Logit(df_log['NACIDO_VIVO_INV'], df_log[['NUMERO_EMBARAZOS','TIEMPO_GESTACION_CAT','TIPO_PARTO_CAT',]].astype(float))\n",
        "logit_res = logit.fit()\n",
        "logit_res.summary()"
      ],
      "execution_count": 12,
      "outputs": [
        {
          "output_type": "stream",
          "text": [
            "Optimization terminated successfully.\n",
            "         Current function value: 0.170720\n",
            "         Iterations 8\n"
          ],
          "name": "stdout"
        },
        {
          "output_type": "execute_result",
          "data": {
            "text/html": [
              "<table class=\"simpletable\">\n",
              "<caption>Logit Regression Results</caption>\n",
              "<tr>\n",
              "  <th>Dep. Variable:</th>    <td>NACIDO_VIVO_INV</td> <th>  No. Observations:  </th>   <td>1579068</td>  \n",
              "</tr>\n",
              "<tr>\n",
              "  <th>Model:</th>                 <td>Logit</td>      <th>  Df Residuals:      </th>   <td>1579065</td>  \n",
              "</tr>\n",
              "<tr>\n",
              "  <th>Method:</th>                 <td>MLE</td>       <th>  Df Model:          </th>   <td>     2</td>   \n",
              "</tr>\n",
              "<tr>\n",
              "  <th>Date:</th>            <td>Sat, 11 Jul 2020</td> <th>  Pseudo R-squ.:     </th>   <td>0.3193</td>   \n",
              "</tr>\n",
              "<tr>\n",
              "  <th>Time:</th>                <td>22:39:36</td>     <th>  Log-Likelihood:    </th> <td>-2.6958e+05</td>\n",
              "</tr>\n",
              "<tr>\n",
              "  <th>converged:</th>             <td>True</td>       <th>  LL-Null:           </th> <td>-3.9604e+05</td>\n",
              "</tr>\n",
              "<tr>\n",
              "  <th>Covariance Type:</th>     <td>nonrobust</td>    <th>  LLR p-value:       </th>   <td> 0.000</td>   \n",
              "</tr>\n",
              "</table>\n",
              "<table class=\"simpletable\">\n",
              "<tr>\n",
              "            <td></td>              <th>coef</th>     <th>std err</th>      <th>z</th>      <th>P>|z|</th>  <th>[0.025</th>    <th>0.975]</th>  \n",
              "</tr>\n",
              "<tr>\n",
              "  <th>NUMERO_EMBARAZOS</th>     <td>    0.0486</td> <td>    0.000</td> <td>  192.894</td> <td> 0.000</td> <td>    0.048</td> <td>    0.049</td>\n",
              "</tr>\n",
              "<tr>\n",
              "  <th>TIEMPO_GESTACION_CAT</th> <td>   -1.3313</td> <td>    0.002</td> <td> -628.726</td> <td> 0.000</td> <td>   -1.335</td> <td>   -1.327</td>\n",
              "</tr>\n",
              "<tr>\n",
              "  <th>TIPO_PARTO_CAT</th>       <td>    0.4256</td> <td>    0.005</td> <td>   78.585</td> <td> 0.000</td> <td>    0.415</td> <td>    0.436</td>\n",
              "</tr>\n",
              "</table>"
            ],
            "text/plain": [
              "<class 'statsmodels.iolib.summary.Summary'>\n",
              "\"\"\"\n",
              "                           Logit Regression Results                           \n",
              "==============================================================================\n",
              "Dep. Variable:        NACIDO_VIVO_INV   No. Observations:              1579068\n",
              "Model:                          Logit   Df Residuals:                  1579065\n",
              "Method:                           MLE   Df Model:                            2\n",
              "Date:                Sat, 11 Jul 2020   Pseudo R-squ.:                  0.3193\n",
              "Time:                        22:39:36   Log-Likelihood:            -2.6958e+05\n",
              "converged:                       True   LL-Null:                   -3.9604e+05\n",
              "Covariance Type:            nonrobust   LLR p-value:                     0.000\n",
              "========================================================================================\n",
              "                           coef    std err          z      P>|z|      [0.025      0.975]\n",
              "----------------------------------------------------------------------------------------\n",
              "NUMERO_EMBARAZOS         0.0486      0.000    192.894      0.000       0.048       0.049\n",
              "TIEMPO_GESTACION_CAT    -1.3313      0.002   -628.726      0.000      -1.335      -1.327\n",
              "TIPO_PARTO_CAT           0.4256      0.005     78.585      0.000       0.415       0.436\n",
              "========================================================================================\n",
              "\"\"\""
            ]
          },
          "metadata": {
            "tags": []
          },
          "execution_count": 12
        }
      ]
    },
    {
      "cell_type": "code",
      "metadata": {
        "id": "4f5BDH0z_xSe",
        "colab_type": "code",
        "colab": {
          "base_uri": "https://localhost:8080/",
          "height": 369
        },
        "outputId": "91b96af7-ee92-4a3b-9726-6d445b00d5e5"
      },
      "source": [
        "cm = logit_res.pred_table(threshold=0.5)\n",
        "plt.figure(figsize=(5,5))\n",
        "sns.heatmap(cm, annot=True,annot_kws={\"size\": 20})\n",
        "# labels, title and ticks\n",
        "plt.xlabel('Predicted values',fontsize=18)\n",
        "plt.ylabel('Real values',fontsize=18)\n",
        "plt.title('Confusion matrix',fontsize=24)\n",
        "plt.tight_layout()"
      ],
      "execution_count": 13,
      "outputs": [
        {
          "output_type": "display_data",
          "data": {
            "image/png": "[encoded data removed]",
            "text/plain": [
              "<Figure size 360x360 with 2 Axes>"
            ]
          },
          "metadata": {
            "tags": [],
            "needs_background": "light"
          }
        }
      ]
    },
    {
      "cell_type": "code",
      "metadata": {
        "colab_type": "code",
        "id": "kmG727CNpYcv",
        "colab": {
          "base_uri": "https://localhost:8080/",
          "height": 283
        },
        "outputId": "d6c48d80-d6a8-4d2c-f0a9-46f3728d1126"
      },
      "source": [
        "logit = sm.Logit(df_log['NACIDO_VIVO_INV'], df_log[['NUMERO_EMBARAZOS']].astype(float))\n",
        "logit_res = logit.fit()\n",
        "logit_res.summary()"
      ],
      "execution_count": 14,
      "outputs": [
        {
          "output_type": "stream",
          "text": [
            "Optimization terminated successfully.\n",
            "         Current function value: 0.688618\n",
            "         Iterations 6\n"
          ],
          "name": "stdout"
        },
        {
          "output_type": "execute_result",
          "data": {
            "text/html": [
              "<table class=\"simpletable\">\n",
              "<caption>Logit Regression Results</caption>\n",
              "<tr>\n",
              "  <th>Dep. Variable:</th>    <td>NACIDO_VIVO_INV</td> <th>  No. Observations:  </th>   <td>1579068</td>  \n",
              "</tr>\n",
              "<tr>\n",
              "  <th>Model:</th>                 <td>Logit</td>      <th>  Df Residuals:      </th>   <td>1579067</td>  \n",
              "</tr>\n",
              "<tr>\n",
              "  <th>Method:</th>                 <td>MLE</td>       <th>  Df Model:          </th>   <td>     0</td>   \n",
              "</tr>\n",
              "<tr>\n",
              "  <th>Date:</th>            <td>Sat, 11 Jul 2020</td> <th>  Pseudo R-squ.:     </th>   <td>-1.746</td>   \n",
              "</tr>\n",
              "<tr>\n",
              "  <th>Time:</th>                <td>22:39:47</td>     <th>  Log-Likelihood:    </th> <td>-1.0874e+06</td>\n",
              "</tr>\n",
              "<tr>\n",
              "  <th>converged:</th>             <td>True</td>       <th>  LL-Null:           </th> <td>-3.9604e+05</td>\n",
              "</tr>\n",
              "<tr>\n",
              "  <th>Covariance Type:</th>     <td>nonrobust</td>    <th>  LLR p-value:       </th>   <td>   nan</td>   \n",
              "</tr>\n",
              "</table>\n",
              "<table class=\"simpletable\">\n",
              "<tr>\n",
              "          <td></td>            <th>coef</th>     <th>std err</th>      <th>z</th>      <th>P>|z|</th>  <th>[0.025</th>    <th>0.975]</th>  \n",
              "</tr>\n",
              "<tr>\n",
              "  <th>NUMERO_EMBARAZOS</th> <td>   -0.0202</td> <td>    0.000</td> <td>  -92.114</td> <td> 0.000</td> <td>   -0.021</td> <td>   -0.020</td>\n",
              "</tr>\n",
              "</table>"
            ],
            "text/plain": [
              "<class 'statsmodels.iolib.summary.Summary'>\n",
              "\"\"\"\n",
              "                           Logit Regression Results                           \n",
              "==============================================================================\n",
              "Dep. Variable:        NACIDO_VIVO_INV   No. Observations:              1579068\n",
              "Model:                          Logit   Df Residuals:                  1579067\n",
              "Method:                           MLE   Df Model:                            0\n",
              "Date:                Sat, 11 Jul 2020   Pseudo R-squ.:                  -1.746\n",
              "Time:                        22:39:47   Log-Likelihood:            -1.0874e+06\n",
              "converged:                       True   LL-Null:                   -3.9604e+05\n",
              "Covariance Type:            nonrobust   LLR p-value:                       nan\n",
              "====================================================================================\n",
              "                       coef    std err          z      P>|z|      [0.025      0.975]\n",
              "------------------------------------------------------------------------------------\n",
              "NUMERO_EMBARAZOS    -0.0202      0.000    -92.114      0.000      -0.021      -0.020\n",
              "====================================================================================\n",
              "\"\"\""
            ]
          },
          "metadata": {
            "tags": []
          },
          "execution_count": 14
        }
      ]
    },
    {
      "cell_type": "code",
      "metadata": {
        "id": "XzSKpsZx_yaC",
        "colab_type": "code",
        "colab": {
          "base_uri": "https://localhost:8080/",
          "height": 369
        },
        "outputId": "21544fd1-29f8-4ead-fdb7-8dc016533415"
      },
      "source": [
        "cm = logit_res.pred_table(threshold=0.5)\n",
        "plt.figure(figsize=(5,5))\n",
        "sns.heatmap(cm, annot=True,annot_kws={\"size\": 20})\n",
        "# labels, title and ticks\n",
        "plt.xlabel('Predicted values',fontsize=18)\n",
        "plt.ylabel('Real values',fontsize=18)\n",
        "plt.title('Confusion matrix',fontsize=24)\n",
        "plt.tight_layout()"
      ],
      "execution_count": 15,
      "outputs": [
        {
          "output_type": "display_data",
          "data": {
            "image/png": "[encoded data removed]",
            "text/plain": [
              "<Figure size 360x360 with 2 Axes>"
            ]
          },
          "metadata": {
            "tags": [],
            "needs_background": "light"
          }
        }
      ]
    },
    {
      "cell_type": "code",
      "metadata": {
        "id": "BhfWG-Iawl6e",
        "colab_type": "code",
        "colab": {
          "base_uri": "https://localhost:8080/",
          "height": 283
        },
        "outputId": "421a0207-17c2-45ab-ae7c-2f73164fa71c"
      },
      "source": [
        "logit = sm.Logit(df_log['NACIDO_VIVO_INV'], df_log[['PESO']].astype(float))\n",
        "logit_res = logit.fit()\n",
        "logit_res.summary()"
      ],
      "execution_count": 16,
      "outputs": [
        {
          "output_type": "stream",
          "text": [
            "Optimization terminated successfully.\n",
            "         Current function value: 0.227695\n",
            "         Iterations 7\n"
          ],
          "name": "stdout"
        },
        {
          "output_type": "execute_result",
          "data": {
            "text/html": [
              "<table class=\"simpletable\">\n",
              "<caption>Logit Regression Results</caption>\n",
              "<tr>\n",
              "  <th>Dep. Variable:</th>    <td>NACIDO_VIVO_INV</td> <th>  No. Observations:  </th>   <td>1579068</td>  \n",
              "</tr>\n",
              "<tr>\n",
              "  <th>Model:</th>                 <td>Logit</td>      <th>  Df Residuals:      </th>   <td>1579067</td>  \n",
              "</tr>\n",
              "<tr>\n",
              "  <th>Method:</th>                 <td>MLE</td>       <th>  Df Model:          </th>   <td>     0</td>   \n",
              "</tr>\n",
              "<tr>\n",
              "  <th>Date:</th>            <td>Sat, 11 Jul 2020</td> <th>  Pseudo R-squ.:     </th>   <td>0.09216</td>  \n",
              "</tr>\n",
              "<tr>\n",
              "  <th>Time:</th>                <td>22:39:58</td>     <th>  Log-Likelihood:    </th> <td>-3.5955e+05</td>\n",
              "</tr>\n",
              "<tr>\n",
              "  <th>converged:</th>             <td>True</td>       <th>  LL-Null:           </th> <td>-3.9604e+05</td>\n",
              "</tr>\n",
              "<tr>\n",
              "  <th>Covariance Type:</th>     <td>nonrobust</td>    <th>  LLR p-value:       </th>   <td>   nan</td>   \n",
              "</tr>\n",
              "</table>\n",
              "<table class=\"simpletable\">\n",
              "<tr>\n",
              "    <td></td>      <th>coef</th>     <th>std err</th>      <th>z</th>      <th>P>|z|</th>  <th>[0.025</th>    <th>0.975]</th>  \n",
              "</tr>\n",
              "<tr>\n",
              "  <th>PESO</th> <td>   -0.5017</td> <td>    0.001</td> <td> -774.068</td> <td> 0.000</td> <td>   -0.503</td> <td>   -0.500</td>\n",
              "</tr>\n",
              "</table>"
            ],
            "text/plain": [
              "<class 'statsmodels.iolib.summary.Summary'>\n",
              "\"\"\"\n",
              "                           Logit Regression Results                           \n",
              "==============================================================================\n",
              "Dep. Variable:        NACIDO_VIVO_INV   No. Observations:              1579068\n",
              "Model:                          Logit   Df Residuals:                  1579067\n",
              "Method:                           MLE   Df Model:                            0\n",
              "Date:                Sat, 11 Jul 2020   Pseudo R-squ.:                 0.09216\n",
              "Time:                        22:39:58   Log-Likelihood:            -3.5955e+05\n",
              "converged:                       True   LL-Null:                   -3.9604e+05\n",
              "Covariance Type:            nonrobust   LLR p-value:                       nan\n",
              "==============================================================================\n",
              "                 coef    std err          z      P>|z|      [0.025      0.975]\n",
              "------------------------------------------------------------------------------\n",
              "PESO          -0.5017      0.001   -774.068      0.000      -0.503      -0.500\n",
              "==============================================================================\n",
              "\"\"\""
            ]
          },
          "metadata": {
            "tags": []
          },
          "execution_count": 16
        }
      ]
    },
    {
      "cell_type": "code",
      "metadata": {
        "id": "Ype9tm3k_zTG",
        "colab_type": "code",
        "colab": {
          "base_uri": "https://localhost:8080/",
          "height": 369
        },
        "outputId": "a649898e-0913-4066-c5a9-b07ea70763ff"
      },
      "source": [
        "cm = logit_res.pred_table(threshold=0.5)\n",
        "plt.figure(figsize=(5,5))\n",
        "sns.heatmap(cm, annot=True,annot_kws={\"size\": 20})\n",
        "# labels, title and ticks\n",
        "plt.xlabel('Predicted values',fontsize=18)\n",
        "plt.ylabel('Real values',fontsize=18)\n",
        "plt.title('Confusion matrix',fontsize=24)\n",
        "plt.tight_layout()"
      ],
      "execution_count": 17,
      "outputs": [
        {
          "output_type": "display_data",
          "data": {
            "image/png": "[encoded data removed]",
            "text/plain": [
              "<Figure size 360x360 with 2 Axes>"
            ]
          },
          "metadata": {
            "tags": [],
            "needs_background": "light"
          }
        }
      ]
    },
    {
      "cell_type": "code",
      "metadata": {
        "id": "nYCgkavgwxWP",
        "colab_type": "code",
        "colab": {
          "base_uri": "https://localhost:8080/",
          "height": 283
        },
        "outputId": "733b9964-2464-44ca-ff3a-435df24a0971"
      },
      "source": [
        "logit = sm.Logit(df_log['NACIDO_VIVO_INV'], df_log[['SEXO_CAT']].astype(float))\n",
        "logit_res = logit.fit()\n",
        "logit_res.summary()"
      ],
      "execution_count": 18,
      "outputs": [
        {
          "output_type": "stream",
          "text": [
            "Optimization terminated successfully.\n",
            "         Current function value: 0.578291\n",
            "         Iterations 6\n"
          ],
          "name": "stdout"
        },
        {
          "output_type": "execute_result",
          "data": {
            "text/html": [
              "<table class=\"simpletable\">\n",
              "<caption>Logit Regression Results</caption>\n",
              "<tr>\n",
              "  <th>Dep. Variable:</th>    <td>NACIDO_VIVO_INV</td> <th>  No. Observations:  </th>   <td>1579068</td>  \n",
              "</tr>\n",
              "<tr>\n",
              "  <th>Model:</th>                 <td>Logit</td>      <th>  Df Residuals:      </th>   <td>1579067</td>  \n",
              "</tr>\n",
              "<tr>\n",
              "  <th>Method:</th>                 <td>MLE</td>       <th>  Df Model:          </th>   <td>     0</td>   \n",
              "</tr>\n",
              "<tr>\n",
              "  <th>Date:</th>            <td>Sat, 11 Jul 2020</td> <th>  Pseudo R-squ.:     </th>   <td>-1.306</td>   \n",
              "</tr>\n",
              "<tr>\n",
              "  <th>Time:</th>                <td>22:40:09</td>     <th>  Log-Likelihood:    </th> <td>-9.1316e+05</td>\n",
              "</tr>\n",
              "<tr>\n",
              "  <th>converged:</th>             <td>True</td>       <th>  LL-Null:           </th> <td>-3.9604e+05</td>\n",
              "</tr>\n",
              "<tr>\n",
              "  <th>Covariance Type:</th>     <td>nonrobust</td>    <th>  LLR p-value:       </th>   <td>   nan</td>   \n",
              "</tr>\n",
              "</table>\n",
              "<table class=\"simpletable\">\n",
              "<tr>\n",
              "      <td></td>        <th>coef</th>     <th>std err</th>      <th>z</th>      <th>P>|z|</th>  <th>[0.025</th>    <th>0.975]</th>  \n",
              "</tr>\n",
              "<tr>\n",
              "  <th>SEXO_CAT</th> <td>   -1.3753</td> <td>    0.003</td> <td> -517.035</td> <td> 0.000</td> <td>   -1.381</td> <td>   -1.370</td>\n",
              "</tr>\n",
              "</table>"
            ],
            "text/plain": [
              "<class 'statsmodels.iolib.summary.Summary'>\n",
              "\"\"\"\n",
              "                           Logit Regression Results                           \n",
              "==============================================================================\n",
              "Dep. Variable:        NACIDO_VIVO_INV   No. Observations:              1579068\n",
              "Model:                          Logit   Df Residuals:                  1579067\n",
              "Method:                           MLE   Df Model:                            0\n",
              "Date:                Sat, 11 Jul 2020   Pseudo R-squ.:                  -1.306\n",
              "Time:                        22:40:09   Log-Likelihood:            -9.1316e+05\n",
              "converged:                       True   LL-Null:                   -3.9604e+05\n",
              "Covariance Type:            nonrobust   LLR p-value:                       nan\n",
              "==============================================================================\n",
              "                 coef    std err          z      P>|z|      [0.025      0.975]\n",
              "------------------------------------------------------------------------------\n",
              "SEXO_CAT      -1.3753      0.003   -517.035      0.000      -1.381      -1.370\n",
              "==============================================================================\n",
              "\"\"\""
            ]
          },
          "metadata": {
            "tags": []
          },
          "execution_count": 18
        }
      ]
    },
    {
      "cell_type": "code",
      "metadata": {
        "id": "eNbP0JjI_1bF",
        "colab_type": "code",
        "colab": {
          "base_uri": "https://localhost:8080/",
          "height": 369
        },
        "outputId": "afc2b95b-e6c9-42d3-c5e0-5613e13771d6"
      },
      "source": [
        "cm = logit_res.pred_table(threshold=0.5)\n",
        "plt.figure(figsize=(5,5))\n",
        "sns.heatmap(cm, annot=True,annot_kws={\"size\": 20})\n",
        "# labels, title and ticks\n",
        "plt.xlabel('Predicted values',fontsize=18)\n",
        "plt.ylabel('Real values',fontsize=18)\n",
        "plt.title('Confusion matrix',fontsize=24)\n",
        "plt.tight_layout()"
      ],
      "execution_count": 19,
      "outputs": [
        {
          "output_type": "display_data",
          "data": {
            "image/png": "[encoded data removed]",
            "text/plain": [
              "<Figure size 360x360 with 2 Axes>"
            ]
          },
          "metadata": {
            "tags": [],
            "needs_background": "light"
          }
        }
      ]
    },
    {
      "cell_type": "code",
      "metadata": {
        "id": "02jy9Rz5w1FT",
        "colab_type": "code",
        "colab": {
          "base_uri": "https://localhost:8080/",
          "height": 283
        },
        "outputId": "3b9523ce-19c4-451f-b9ef-2be0aad2ba3f"
      },
      "source": [
        "logit = sm.Logit(df_log['NACIDO_VIVO_INV'], df_log[['SEG_SOCIAL_CAT']].astype(float))\n",
        "logit_res = logit.fit()\n",
        "logit_res.summary()"
      ],
      "execution_count": 20,
      "outputs": [
        {
          "output_type": "stream",
          "text": [
            "Optimization terminated successfully.\n",
            "         Current function value: 0.432683\n",
            "         Iterations 7\n"
          ],
          "name": "stdout"
        },
        {
          "output_type": "execute_result",
          "data": {
            "text/html": [
              "<table class=\"simpletable\">\n",
              "<caption>Logit Regression Results</caption>\n",
              "<tr>\n",
              "  <th>Dep. Variable:</th>    <td>NACIDO_VIVO_INV</td> <th>  No. Observations:  </th>   <td>1579068</td>  \n",
              "</tr>\n",
              "<tr>\n",
              "  <th>Model:</th>                 <td>Logit</td>      <th>  Df Residuals:      </th>   <td>1579067</td>  \n",
              "</tr>\n",
              "<tr>\n",
              "  <th>Method:</th>                 <td>MLE</td>       <th>  Df Model:          </th>   <td>     0</td>   \n",
              "</tr>\n",
              "<tr>\n",
              "  <th>Date:</th>            <td>Sat, 11 Jul 2020</td> <th>  Pseudo R-squ.:     </th>   <td>-0.7251</td>  \n",
              "</tr>\n",
              "<tr>\n",
              "  <th>Time:</th>                <td>22:40:20</td>     <th>  Log-Likelihood:    </th> <td>-6.8324e+05</td>\n",
              "</tr>\n",
              "<tr>\n",
              "  <th>converged:</th>             <td>True</td>       <th>  LL-Null:           </th> <td>-3.9604e+05</td>\n",
              "</tr>\n",
              "<tr>\n",
              "  <th>Covariance Type:</th>     <td>nonrobust</td>    <th>  LLR p-value:       </th>   <td>   nan</td>   \n",
              "</tr>\n",
              "</table>\n",
              "<table class=\"simpletable\">\n",
              "<tr>\n",
              "         <td></td>           <th>coef</th>     <th>std err</th>      <th>z</th>      <th>P>|z|</th>  <th>[0.025</th>    <th>0.975]</th>  \n",
              "</tr>\n",
              "<tr>\n",
              "  <th>SEG_SOCIAL_CAT</th> <td>   -1.3373</td> <td>    0.002</td> <td> -622.320</td> <td> 0.000</td> <td>   -1.342</td> <td>   -1.333</td>\n",
              "</tr>\n",
              "</table>"
            ],
            "text/plain": [
              "<class 'statsmodels.iolib.summary.Summary'>\n",
              "\"\"\"\n",
              "                           Logit Regression Results                           \n",
              "==============================================================================\n",
              "Dep. Variable:        NACIDO_VIVO_INV   No. Observations:              1579068\n",
              "Model:                          Logit   Df Residuals:                  1579067\n",
              "Method:                           MLE   Df Model:                            0\n",
              "Date:                Sat, 11 Jul 2020   Pseudo R-squ.:                 -0.7251\n",
              "Time:                        22:40:20   Log-Likelihood:            -6.8324e+05\n",
              "converged:                       True   LL-Null:                   -3.9604e+05\n",
              "Covariance Type:            nonrobust   LLR p-value:                       nan\n",
              "==================================================================================\n",
              "                     coef    std err          z      P>|z|      [0.025      0.975]\n",
              "----------------------------------------------------------------------------------\n",
              "SEG_SOCIAL_CAT    -1.3373      0.002   -622.320      0.000      -1.342      -1.333\n",
              "==================================================================================\n",
              "\"\"\""
            ]
          },
          "metadata": {
            "tags": []
          },
          "execution_count": 20
        }
      ]
    },
    {
      "cell_type": "code",
      "metadata": {
        "id": "TvmhQVFN_2c4",
        "colab_type": "code",
        "colab": {
          "base_uri": "https://localhost:8080/",
          "height": 369
        },
        "outputId": "e0c4ec86-d0e7-4ee3-974b-bec21f83565b"
      },
      "source": [
        "cm = logit_res.pred_table(threshold=0.5)\n",
        "plt.figure(figsize=(5,5))\n",
        "sns.heatmap(cm, annot=True,annot_kws={\"size\": 20})\n",
        "# labels, title and ticks\n",
        "plt.xlabel('Predicted values',fontsize=18)\n",
        "plt.ylabel('Real values',fontsize=18)\n",
        "plt.title('Confusion matrix',fontsize=24)\n",
        "plt.tight_layout()"
      ],
      "execution_count": 21,
      "outputs": [
        {
          "output_type": "display_data",
          "data": {
            "image/png": "[encoded data removed]",
            "text/plain": [
              "<Figure size 360x360 with 2 Axes>"
            ]
          },
          "metadata": {
            "tags": [],
            "needs_background": "light"
          }
        }
      ]
    }
  ]
}
